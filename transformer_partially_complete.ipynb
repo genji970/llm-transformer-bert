{
  "nbformat": 4,
  "nbformat_minor": 0,
  "metadata": {
    "colab": {
      "provenance": [],
      "machine_shape": "hm",
      "gpuType": "L4"
    },
    "kernelspec": {
      "name": "python3",
      "display_name": "Python 3"
    },
    "language_info": {
      "name": "python"
    },
    "accelerator": "GPU"
  },
  "cells": [
    {
      "cell_type": "code",
      "execution_count": null,
      "metadata": {
        "id": "c7g43tDcf92S"
      },
      "outputs": [],
      "source": [
        "import torch\n",
        "import torch.nn as nn\n",
        "import matplotlib.pyplot as plt\n",
        "import numpy as np\n",
        "from torch.utils.data import Dataset , DataLoader\n",
        "import pandas as pd\n",
        "\n",
        "import os\n",
        "\n",
        "from transformers import BertTokenizer\n",
        "\n",
        "from transformers import default_data_collator"
      ]
    },
    {
      "cell_type": "markdown",
      "source": [
        "# **seed 고정**"
      ],
      "metadata": {
        "id": "P62BYcLRgOcZ"
      }
    },
    {
      "cell_type": "code",
      "source": [
        "seed = 42\n",
        "torch.manual_seed(seed)\n",
        "np.random.seed(seed)\n",
        "torch.cuda.manual_seed(seed)\n",
        "torch.backends.cudnn.deterministic = True\n",
        "torch.backends.cudnn.benchmark = False"
      ],
      "metadata": {
        "id": "hqP9wvkogOm2"
      },
      "execution_count": null,
      "outputs": []
    },
    {
      "cell_type": "markdown",
      "source": [
        "GPU"
      ],
      "metadata": {
        "id": "rrDSkANGKARF"
      }
    },
    {
      "cell_type": "code",
      "source": [
        "device = torch.device(\"cuda\" if torch.cuda.is_available() else \"cpu\")\n",
        "print(device)"
      ],
      "metadata": {
        "colab": {
          "base_uri": "https://localhost:8080/"
        },
        "id": "R8XUH9ZlKAVV",
        "outputId": "5d0ef53f-943f-43ea-9033-f2534551f420"
      },
      "execution_count": null,
      "outputs": [
        {
          "output_type": "stream",
          "name": "stdout",
          "text": [
            "cuda\n"
          ]
        }
      ]
    },
    {
      "cell_type": "markdown",
      "source": [
        "# **Hugging face dateset가져오기**"
      ],
      "metadata": {
        "id": "UhR6V876g0H5"
      }
    },
    {
      "cell_type": "code",
      "source": [
        "# Hugging Face datasets 라이브러리 설치 (설치되지 않은 경우)\n",
        "!pip install datasets\n",
        "\n",
        "# GLUE 데이터셋 불러오기\n",
        "from datasets import load_dataset\n",
        "\n",
        "# MRPC (Microsoft Research Paraphrase Corpus) 태스크 로드 예시\n",
        "dataset = load_dataset(\"glue\", \"mrpc\")"
      ],
      "metadata": {
        "id": "cVuuqi9Mg0oh"
      },
      "execution_count": null,
      "outputs": []
    },
    {
      "cell_type": "code",
      "source": [
        "# 데이터셋 정보 출력\n",
        "print(dataset)"
      ],
      "metadata": {
        "colab": {
          "base_uri": "https://localhost:8080/"
        },
        "id": "J_l1c0qFhRWy",
        "outputId": "2c73ed9a-0656-47dc-9d0a-9156a32b687c"
      },
      "execution_count": null,
      "outputs": [
        {
          "output_type": "stream",
          "name": "stdout",
          "text": [
            "DatasetDict({\n",
            "    train: Dataset({\n",
            "        features: ['sentence1', 'sentence2', 'label', 'idx'],\n",
            "        num_rows: 3668\n",
            "    })\n",
            "    validation: Dataset({\n",
            "        features: ['sentence1', 'sentence2', 'label', 'idx'],\n",
            "        num_rows: 408\n",
            "    })\n",
            "    test: Dataset({\n",
            "        features: ['sentence1', 'sentence2', 'label', 'idx'],\n",
            "        num_rows: 1725\n",
            "    })\n",
            "})\n"
          ]
        }
      ]
    },
    {
      "cell_type": "markdown",
      "source": [
        "sentence1 , sentence2의 동의어 관계 판별 ,\n",
        "\n",
        "---\n",
        "label : 1 -> 동의어 관계\n",
        "label : 0 -> 동의어 관계 아님\n",
        "\n",
        "---\n",
        "idx : 고유 id\n",
        "\n"
      ],
      "metadata": {
        "id": "o-M7clpairzp"
      }
    },
    {
      "cell_type": "code",
      "source": [
        "# 훈련, 검증 데이터 예시 출력\n",
        "print(f\"Train Example: {dataset['train'][0]}\")\n",
        "print(f\"Validation Example: {dataset['validation'][0]}\")"
      ],
      "metadata": {
        "colab": {
          "base_uri": "https://localhost:8080/"
        },
        "id": "KIEBvV71hPv7",
        "outputId": "2b5d7bb4-eeb3-4bbb-de5e-74e2fe43b186"
      },
      "execution_count": null,
      "outputs": [
        {
          "output_type": "stream",
          "name": "stdout",
          "text": [
            "Train Example: {'sentence1': 'Amrozi accused his brother , whom he called \" the witness \" , of deliberately distorting his evidence .', 'sentence2': 'Referring to him as only \" the witness \" , Amrozi accused his brother of deliberately distorting his evidence .', 'label': 1, 'idx': 0}\n",
            "Validation Example: {'sentence1': \"He said the foodservice pie business doesn 't fit the company 's long-term growth strategy .\", 'sentence2': '\" The foodservice pie business does not fit our long-term growth strategy .', 'label': 1, 'idx': 9}\n"
          ]
        }
      ]
    },
    {
      "cell_type": "markdown",
      "source": [
        "# **데이터 시각화**"
      ],
      "metadata": {
        "id": "o45Q_FYQ8z-3"
      }
    },
    {
      "cell_type": "code",
      "source": [
        "# 레이블과 문장 길이 계산\n",
        "visualize_dataset = load_dataset(\"glue\", \"mrpc\", split=\"train\")\n",
        "visualize_labels = visualize_dataset[\"label\"]\n",
        "sentence1_lengths = [len(visualize_sent.split()) for visualize_sent in visualize_dataset[\"sentence1\"]]\n",
        "sentence2_lengths = [len(visualize_sent.split()) for visualize_sent in visualize_dataset[\"sentence2\"]]\n",
        "\n",
        "# 레이블 분포 시각화\n",
        "plt.figure(figsize=(10, 5))\n",
        "plt.subplot(1, 2, 1)\n",
        "plt.hist(visualize_labels, bins=2, edgecolor='black', rwidth=0.8)\n",
        "plt.xticks([0, 1], [\"Not Equivalent\", \"Equivalent\"])\n",
        "plt.title(\"Label Distribution in MRPC Dataset\")\n",
        "plt.xlabel(\"Label\")\n",
        "plt.ylabel(\"Frequency\")\n",
        "\n",
        "# 문장 길이 분포 시각화\n",
        "plt.subplot(1, 2, 2)\n",
        "plt.hist(sentence1_lengths, bins=20, alpha=0.5, label=\"Sentence 1\", edgecolor='black')\n",
        "plt.hist(sentence2_lengths, bins=20, alpha=0.5, label=\"Sentence 2\", edgecolor='black')\n",
        "plt.legend(loc=\"upper right\")\n",
        "plt.title(\"Sentence Length Distribution\")\n",
        "plt.xlabel(\"Sentence Length (words)\")\n",
        "plt.ylabel(\"Frequency\")\n",
        "\n",
        "plt.tight_layout()\n",
        "plt.show()"
      ],
      "metadata": {
        "colab": {
          "base_uri": "https://localhost:8080/",
          "height": 507
        },
        "id": "8CamiaSg80KQ",
        "outputId": "322747bf-6d01-4b31-a695-a1735f5e773b"
      },
      "execution_count": null,
      "outputs": [
        {
          "output_type": "display_data",
          "data": {
            "text/plain": [
              "<Figure size 1000x500 with 2 Axes>"
            ],
            "image/png": "[encoded data removed]"
          },
          "metadata": {}
        }
      ]
    },
    {
      "cell_type": "markdown",
      "source": [
        "Label distribution in MRPC Dataset -> not equivalent와 equivalent class mismatch가 대략 2배 -> weight sampling 필요\n",
        "\n",
        "---\n",
        "Sentence length distribution을 보면 대략 max(sentence length) < 50, max_length = 64로 한다\n"
      ],
      "metadata": {
        "id": "KscJb_9G85_w"
      }
    },
    {
      "cell_type": "markdown",
      "source": [
        "# **토큰화**"
      ],
      "metadata": {
        "id": "0ZkG9Grohqw4"
      }
    },
    {
      "cell_type": "code",
      "source": [
        "# 2. BERT 토크나이저 불러오기 (사전 학습된 BERT 모델 사용)\n",
        "tokenizer = BertTokenizer.from_pretrained(\"bert-base-uncased\")"
      ],
      "metadata": {
        "colab": {
          "base_uri": "https://localhost:8080/"
        },
        "id": "GusHkmBihq6w",
        "outputId": "7b4bf68a-2ce6-46cc-9b13-e516a4bb4e8b"
      },
      "execution_count": null,
      "outputs": [
        {
          "output_type": "stream",
          "name": "stderr",
          "text": [
            "/usr/local/lib/python3.10/dist-packages/transformers/tokenization_utils_base.py:1601: FutureWarning: `clean_up_tokenization_spaces` was not set. It will be set to `True` by default. This behavior will be depracted in transformers v4.45, and will be then set to `False` by default. For more details check this issue: https://github.com/huggingface/transformers/issues/31884\n",
            "  warnings.warn(\n"
          ]
        }
      ]
    },
    {
      "cell_type": "code",
      "source": [
        "# 3. 토큰화 함수 정의\n",
        "def tokenize_function(examples):\n",
        "    # sentence1과 sentence2를 함께 토큰화 (Padding, Truncation 처리)\n",
        "    return tokenizer(examples[\"sentence1\"],\n",
        "                     examples[\"sentence2\"],\n",
        "                     padding=\"max_length\",\n",
        "                     truncation=True,\n",
        "                     max_length=64)"
      ],
      "metadata": {
        "id": "RUfi08-xkTpm"
      },
      "execution_count": null,
      "outputs": []
    },
    {
      "cell_type": "code",
      "source": [
        "# 4. 데이터셋에 토큰화 적용\n",
        "tokenized_dataset = dataset.map(tokenize_function, batched=True)"
      ],
      "metadata": {
        "id": "DHk1hnGjkVX_"
      },
      "execution_count": null,
      "outputs": []
    },
    {
      "cell_type": "code",
      "source": [
        "# 5. 토큰화된 데이터 예시 출력\n",
        "print(tokenized_dataset[\"train\"][0])"
      ],
      "metadata": {
        "colab": {
          "base_uri": "https://localhost:8080/"
        },
        "id": "LLrWK7eakcPk",
        "outputId": "a288596a-e8d8-4a60-b3ce-4f213cb54f8e"
      },
      "execution_count": null,
      "outputs": [
        {
          "output_type": "stream",
          "name": "stdout",
          "text": [
            "{'sentence1': 'Amrozi accused his brother , whom he called \" the witness \" , of deliberately distorting his evidence .', 'sentence2': 'Referring to him as only \" the witness \" , Amrozi accused his brother of deliberately distorting his evidence .', 'label': 1, 'idx': 0, 'input_ids': [101, 2572, 3217, 5831, 5496, 2010, 2567, 1010, 3183, 2002, 2170, 1000, 1996, 7409, 1000, 1010, 1997, 9969, 4487, 23809, 3436, 2010, 3350, 1012, 102, 7727, 2000, 2032, 2004, 2069, 1000, 1996, 7409, 1000, 1010, 2572, 3217, 5831, 5496, 2010, 2567, 1997, 9969, 4487, 23809, 3436, 2010, 3350, 1012, 102, 0, 0, 0, 0, 0, 0, 0, 0, 0, 0, 0, 0, 0, 0], 'token_type_ids': [0, 0, 0, 0, 0, 0, 0, 0, 0, 0, 0, 0, 0, 0, 0, 0, 0, 0, 0, 0, 0, 0, 0, 0, 0, 1, 1, 1, 1, 1, 1, 1, 1, 1, 1, 1, 1, 1, 1, 1, 1, 1, 1, 1, 1, 1, 1, 1, 1, 1, 0, 0, 0, 0, 0, 0, 0, 0, 0, 0, 0, 0, 0, 0], 'attention_mask': [1, 1, 1, 1, 1, 1, 1, 1, 1, 1, 1, 1, 1, 1, 1, 1, 1, 1, 1, 1, 1, 1, 1, 1, 1, 1, 1, 1, 1, 1, 1, 1, 1, 1, 1, 1, 1, 1, 1, 1, 1, 1, 1, 1, 1, 1, 1, 1, 1, 1, 0, 0, 0, 0, 0, 0, 0, 0, 0, 0, 0, 0, 0, 0]}\n"
          ]
        }
      ]
    },
    {
      "cell_type": "markdown",
      "source": [
        "구조 :\n",
        "\n",
        "---\n",
        "\n",
        "(sentence1 원문 , sentence2 원문 , label , idx , input_ids1 & 2 , token_type_ids , attention_mask)\n",
        "\n",
        "---\n",
        "token_type_ids : 두 문장(문장1, 문장2)을 구분하기 위한 인코딩 (BERT에서 사용),\n",
        "\n",
        "---\n",
        "\n",
        "attention_mask : 패딩된 부분을 무시하도록 마스킹 처리 (1은 유효한 토큰, 0은 패딩)\n"
      ],
      "metadata": {
        "id": "1ceKizX6909C"
      }
    },
    {
      "cell_type": "markdown",
      "source": [
        "# **배치화**"
      ],
      "metadata": {
        "id": "k5Dnu5gIk2bx"
      }
    },
    {
      "cell_type": "code",
      "source": [
        "# 데이터셋을 DataLoader에 넣기\n",
        "train_loader = DataLoader(tokenized_dataset[\"train\"], batch_size=256, collate_fn=default_data_collator)"
      ],
      "metadata": {
        "id": "KK-gKR9uk8u9"
      },
      "execution_count": null,
      "outputs": []
    },
    {
      "cell_type": "code",
      "source": [
        "# 3. 배치 반복 및 크기 확인\n",
        "for batch in train_loader:\n",
        "    print(batch.keys())  # 딕셔너리의 키 확인 (예: input_ids, attention_mask, label)\n",
        "\n",
        "    input_ids = batch['input_ids']\n",
        "    print(f\"Input IDs shape: {len(input_ids)}\")\n",
        "    print(f\"Input IDs shape: {len(input_ids[0])}\")\n",
        "\n",
        "    attention_mask = batch['attention_mask']\n",
        "    print(f\"Attention Mask shape: {len(attention_mask)}\")\n",
        "    print(f\"Attention Mask shape: {len(attention_mask[0])}\")\n",
        "    break  # 첫 배치만 확인"
      ],
      "metadata": {
        "colab": {
          "base_uri": "https://localhost:8080/"
        },
        "id": "zSph_f_kk4yZ",
        "outputId": "0450d270-a484-4d8b-a71f-8f30f49eb3f3"
      },
      "execution_count": null,
      "outputs": [
        {
          "output_type": "stream",
          "name": "stdout",
          "text": [
            "dict_keys(['labels', 'idx', 'input_ids', 'token_type_ids', 'attention_mask'])\n",
            "Input IDs shape: 256\n",
            "Input IDs shape: 64\n",
            "Attention Mask shape: 256\n",
            "Attention Mask shape: 64\n"
          ]
        }
      ]
    },
    {
      "cell_type": "markdown",
      "source": [
        "# **필드 추출**"
      ],
      "metadata": {
        "id": "gF-Q8ZFE2azs"
      }
    },
    {
      "cell_type": "code",
      "source": [
        "# 5. DataLoader에서 배치 추출 및 Encoder에 입력 예시\n",
        "for batch in train_loader:\n",
        "    # 필요한 텐서 추출\n",
        "    input_ids = batch['input_ids']\n",
        "    # 어디 문장 소속인지 여부를 표시하는 텐서 추가\n",
        "    token_type_ids = batch['token_type_ids']\n",
        "    attention_mask = batch['attention_mask']\n",
        "    label = batch['labels']\n",
        "\n",
        "    print(f\"Batch size: {len(input_ids)}, Sequence length: {len(input_ids[0])}\")\n",
        "    print(f\"label : {len(label)}\")"
      ],
      "metadata": {
        "id": "p11P7J3-2aAB",
        "colab": {
          "base_uri": "https://localhost:8080/"
        },
        "outputId": "66b3cef5-8abb-4381-d985-37d0b813288e"
      },
      "execution_count": null,
      "outputs": [
        {
          "output_type": "stream",
          "name": "stdout",
          "text": [
            "Batch size: 256, Sequence length: 64\n",
            "label : 256\n",
            "Batch size: 256, Sequence length: 64\n",
            "label : 256\n",
            "Batch size: 256, Sequence length: 64\n",
            "label : 256\n",
            "Batch size: 256, Sequence length: 64\n",
            "label : 256\n",
            "Batch size: 256, Sequence length: 64\n",
            "label : 256\n",
            "Batch size: 256, Sequence length: 64\n",
            "label : 256\n",
            "Batch size: 256, Sequence length: 64\n",
            "label : 256\n",
            "Batch size: 256, Sequence length: 64\n",
            "label : 256\n",
            "Batch size: 256, Sequence length: 64\n",
            "label : 256\n",
            "Batch size: 256, Sequence length: 64\n",
            "label : 256\n",
            "Batch size: 256, Sequence length: 64\n",
            "label : 256\n",
            "Batch size: 256, Sequence length: 64\n",
            "label : 256\n",
            "Batch size: 256, Sequence length: 64\n",
            "label : 256\n",
            "Batch size: 256, Sequence length: 64\n",
            "label : 256\n",
            "Batch size: 84, Sequence length: 64\n",
            "label : 84\n"
          ]
        }
      ]
    },
    {
      "cell_type": "markdown",
      "source": [
        "# **데이터 처리**"
      ],
      "metadata": {
        "id": "Yne_BbbVny3K"
      }
    },
    {
      "cell_type": "code",
      "source": [
        "# batch는 dictionary 형태이므로 필요한 필드만 따로 추출해야한다\n",
        "# token embeddings + segment embeddings + positional embeddings + attention_mask"
      ],
      "metadata": {
        "id": "P3Ok9413nzAI"
      },
      "execution_count": null,
      "outputs": []
    },
    {
      "cell_type": "markdown",
      "source": [
        "# **Encoder**"
      ],
      "metadata": {
        "id": "R_dKfY6TnEgv"
      }
    },
    {
      "cell_type": "markdown",
      "source": [
        "# **hyperparameter**"
      ],
      "metadata": {
        "id": "xnFoFyjojw29"
      }
    },
    {
      "cell_type": "code",
      "source": [
        "num_heads = 8\n",
        "embedding_dim = 64 * num_heads"
      ],
      "metadata": {
        "id": "lNAIj6b5jwfs"
      },
      "execution_count": null,
      "outputs": []
    },
    {
      "cell_type": "code",
      "source": [
        "class MultiHeadAttention(nn.Module):\n",
        "  def __init__(self, num_heads , embedding_dim , input_size = 16):\n",
        "    super().__init__()\n",
        "    self.embedding_dim = embedding_dim\n",
        "    self.num_heads = num_heads\n",
        "    self.head_dim = embedding_dim // num_heads\n",
        "    #self.input_size = input_size\n",
        "\n",
        "    self.q = nn.Linear(embedding_dim , embedding_dim)\n",
        "    self.k = nn.Linear(embedding_dim , embedding_dim)\n",
        "    self.v = nn.Linear(embedding_dim , embedding_dim)\n",
        "\n",
        "    self.fc = nn.Linear(embedding_dim , embedding_dim)\n",
        "\n",
        "  def go(self , x):\n",
        "\n",
        "    batch_size = x.shape[0]\n",
        "\n",
        "    q = self.q(x) # batch_num , sequence_length , embed_size : 16 , 16 , 128\n",
        "    k = self.k(x)\n",
        "    v = self.v(x)\n",
        "\n",
        "    q = q.view(batch_size , -1 , self.num_heads , self.head_dim).transpose(1,2) # batch , num_head, 16 , 16*8//8 = 16\n",
        "    k = k.view(batch_size , -1 , self.num_heads , self.head_dim).transpose(1,2)\n",
        "    v = v.view(batch_size , -1 , self.num_heads , self.head_dim).transpose(1,2)\n",
        "\n",
        "    # Scaled Dot-Product Attention\n",
        "    attention_score = (q @ k.transpose(3,2)) / (self.head_dim ** 0.5)\n",
        "    attention_score = torch.softmax(attention_score, dim=-1)\n",
        "    attention = torch.matmul(attention_score , v)\n",
        "    attention = attention.transpose(1,2).contiguous().view(batch_size , -1 , self.embedding_dim) # batch , 8 , sequence_length , 16*8//8 = 16\n",
        "    attention = attention.reshape(x.shape[0] , x.shape[1] , x.shape[2])\n",
        "    output = self.fc(attention)\n",
        "\n",
        "    return output # batch , sequence_length , 16*8"
      ],
      "metadata": {
        "id": "QXl0u5tqnek-"
      },
      "execution_count": null,
      "outputs": []
    },
    {
      "cell_type": "markdown",
      "source": [
        "# **인풋의 길이, max_length = 64로 두고 padding처리한다**"
      ],
      "metadata": {
        "id": "Iz5N10mSG_l8"
      }
    },
    {
      "cell_type": "code",
      "source": [
        "class Pre_process(nn.Module):\n",
        "    def __init__(self ,num_heads , embedding_dim , vocab_size = 40000 , max_length = 64, dropout=0.1):\n",
        "        super().__init__()\n",
        "        self.embed_size = embedding_dim\n",
        "        self.max_length = max_length\n",
        "        self.word_embedding = nn.Embedding(vocab_size, embedding_dim)\n",
        "        self.position_embedding = nn.Parameter(torch.randn(1 , max_length , embedding_dim))\n",
        "        self.dropout = nn.Dropout(dropout)\n",
        "    def run(self , input , token_type_ids , attention_mask):\n",
        "        batch_num , seq_length = input.shape\n",
        "        z = self.word_embedding(input) # z.shape : batch_num , sequence_length , embedding_dim\n",
        "        positional_embed = self.position_embedding.expand(batch_num , self.max_length , self.embed_size)\n",
        "        # 단어 임베딩 + position + 문장 소속(binary)\n",
        "        out = z + positional_embed + token_type_ids.unsqueeze(2).expand(batch_num,self.max_length,self.embed_size) + attention_mask.unsqueeze(2).expand(batch_num,self.max_length,self.embed_size)\n",
        "        out = self.dropout(out)\n",
        "        return out # out.shape : batch_num , sequence_length , embed_size"
      ],
      "metadata": {
        "id": "fUZxYl6gv5bQ"
      },
      "execution_count": null,
      "outputs": []
    },
    {
      "cell_type": "markdown",
      "source": [
        "x -> Encoder -> y -> multiheadattention -> z -> Encoder_block"
      ],
      "metadata": {
        "id": "zuJ9m7TIHi_9"
      }
    },
    {
      "cell_type": "markdown",
      "source": [
        "# **Encoder block**"
      ],
      "metadata": {
        "id": "JhwAfQPpI6Kv"
      }
    },
    {
      "cell_type": "code",
      "source": [
        "class Encoder_Block(nn.Module):\n",
        "  def __init__(self, num_heads , embed_size , dropout = 0.1):\n",
        "    super().__init__()\n",
        "\n",
        "    self.relu = nn.ReLU()\n",
        "\n",
        "    self.norm1 = nn.LayerNorm(embed_size)\n",
        "    self.norm2 = nn.LayerNorm(1)\n",
        "\n",
        "    self.l1 = nn.Linear(embed_size , embed_size)\n",
        "    self.l2 = nn.Linear(embed_size , 1)\n",
        "    self.l3 = nn.Linear(64 , 1)\n",
        "\n",
        "    self.pre_process = Pre_process(num_heads , embed_size)\n",
        "    self.attention = MultiHeadAttention(num_heads , embed_size)\n",
        "\n",
        "    self.dropout = nn.Dropout(0.1)\n",
        "\n",
        "  def update(self , input , token_type_ids , attention_mask):\n",
        "\n",
        "    c = self.pre_process.run(input , token_type_ids , attention_mask)\n",
        "    z = self.attention.go(c)\n",
        "\n",
        "    z = z + c\n",
        "    # print(z.shape) , [16, 16, 128]\n",
        "    z1 = self.norm1(z)\n",
        "\n",
        "    z = self.l1(z1)\n",
        "    z = self.relu(z)\n",
        "\n",
        "    #skip\n",
        "    z = z1 + z  # z.shape : 16 ,16 , 128\n",
        "\n",
        "    z = self.l2(z) # 16 ,16 , 1\n",
        "    z = z.reshape(z.shape[0] , z.shape[1])\n",
        "    z = self.l3(z) # 16 , 1\n",
        "\n",
        "    z = self.norm2(z) # 16 , 1\n",
        "\n",
        "    return z # 16 , 1"
      ],
      "metadata": {
        "id": "y8dGImd3HjJz"
      },
      "execution_count": null,
      "outputs": []
    },
    {
      "cell_type": "markdown",
      "source": [
        "Model 설계"
      ],
      "metadata": {
        "id": "JMwSEguRJkOH"
      }
    },
    {
      "cell_type": "code",
      "source": [
        "model = Encoder_Block(num_heads , embedding_dim)"
      ],
      "metadata": {
        "id": "vYGRCRxUJkS-"
      },
      "execution_count": null,
      "outputs": []
    },
    {
      "cell_type": "markdown",
      "source": [
        "# **아키텍쳐**"
      ],
      "metadata": {
        "id": "bivAT_HUH-mA"
      }
    },
    {
      "cell_type": "code",
      "source": [
        "#model = model.to(device)\n",
        "optimizer =  torch.optim.Adam(model.parameters(), lr=0.01)"
      ],
      "metadata": {
        "id": "wDRqwJubLWKw"
      },
      "execution_count": null,
      "outputs": []
    },
    {
      "cell_type": "code",
      "source": [
        "cnt = 0\n",
        "loss_history = []\n",
        "test_loss_history = []\n",
        "bce_loss = nn.BCEWithLogitsLoss()\n",
        "\n",
        "epochs = 100\n",
        "\n",
        "model.train()\n",
        "for epoch in range(epochs):\n",
        "  for batch in train_loader:\n",
        "\n",
        "    # 필요한 텐서 추출\n",
        "    input_ids = batch['input_ids']\n",
        "    #input_ids = torch.stack(input_ids)\n",
        "\n",
        "    # 어디 문장 소속인지 여부를 표시하는 텐서 추가\n",
        "    token_type_ids = batch['token_type_ids']\n",
        "    #token_type_ids = torch.stack(token_type_ids)\n",
        "\n",
        "    #attention_mask\n",
        "    attention_mask = batch['attention_mask']\n",
        "\n",
        "    #label\n",
        "    labels = batch['labels'].unsqueeze(1)\n",
        "\n",
        "    #print(model.device)\n",
        "    output = model.update(input_ids , token_type_ids , attention_mask)\n",
        "\n",
        "    # class mismatch 해결 위해 weight sampling 적용\n",
        "    pos_weight = torch.tensor([0.5])\n",
        "    # BCEWithLogitsLoss 설정\n",
        "    criterion = nn.BCEWithLogitsLoss(pos_weight=pos_weight)\n",
        "\n",
        "    loss = criterion(output, labels.float())\n",
        "\n",
        "    # Backward and optimize\n",
        "    optimizer.zero_grad()\n",
        "    loss.backward()\n",
        "    optimizer.step()\n",
        "\n",
        "    # loss history append\n",
        "    loss_history.append(loss.item())\n",
        "\n",
        "  #scheduler_linear.step()\n",
        "  print(\"epoch : {} , loss : {}\".format(epoch, loss))"
      ],
      "metadata": {
        "colab": {
          "base_uri": "https://localhost:8080/"
        },
        "id": "-prIM1CrHjp0",
        "outputId": "f6b51144-2921-47ce-ebe4-236254a22c24"
      },
      "execution_count": null,
      "outputs": [
        {
          "output_type": "stream",
          "name": "stdout",
          "text": [
            "epoch : 0 , loss : 0.44122740626335144\n",
            "epoch : 1 , loss : 0.44016534090042114\n",
            "epoch : 2 , loss : 0.4396933913230896\n",
            "epoch : 3 , loss : 0.43961256742477417\n",
            "epoch : 4 , loss : 0.43965771794319153\n",
            "epoch : 5 , loss : 0.43970027565956116\n",
            "epoch : 6 , loss : 0.4397154748439789\n",
            "epoch : 7 , loss : 0.43971532583236694\n",
            "epoch : 8 , loss : 0.4397120773792267\n",
            "epoch : 9 , loss : 0.4397100806236267\n",
            "epoch : 10 , loss : 0.4397095739841461\n",
            "epoch : 11 , loss : 0.4397096037864685\n",
            "epoch : 12 , loss : 0.43970975279808044\n",
            "epoch : 13 , loss : 0.43970975279808044\n",
            "epoch : 14 , loss : 0.4397096633911133\n",
            "epoch : 15 , loss : 0.4397096037864685\n",
            "epoch : 16 , loss : 0.43970951437950134\n",
            "epoch : 17 , loss : 0.43970951437950134\n",
            "epoch : 18 , loss : 0.4397094249725342\n",
            "epoch : 19 , loss : 0.4397094249725342\n",
            "epoch : 20 , loss : 0.4397094249725342\n",
            "epoch : 21 , loss : 0.439709335565567\n",
            "epoch : 22 , loss : 0.4397094249725342\n",
            "epoch : 23 , loss : 0.43970930576324463\n",
            "epoch : 24 , loss : 0.43970930576324463\n",
            "epoch : 25 , loss : 0.439709335565567\n",
            "epoch : 26 , loss : 0.43970930576324463\n",
            "epoch : 27 , loss : 0.43970930576324463\n",
            "epoch : 28 , loss : 0.43970930576324463\n",
            "epoch : 29 , loss : 0.439709335565567\n",
            "epoch : 30 , loss : 0.43970924615859985\n",
            "epoch : 31 , loss : 0.43970924615859985\n",
            "epoch : 32 , loss : 0.43970924615859985\n",
            "epoch : 33 , loss : 0.43970924615859985\n",
            "epoch : 34 , loss : 0.4397091567516327\n",
            "epoch : 35 , loss : 0.4397091567516327\n",
            "epoch : 36 , loss : 0.4397091567516327\n",
            "epoch : 37 , loss : 0.4397091567516327\n",
            "epoch : 38 , loss : 0.43970921635627747\n",
            "epoch : 39 , loss : 0.4397091567516327\n",
            "epoch : 40 , loss : 0.4397091567516327\n",
            "epoch : 41 , loss : 0.43970921635627747\n",
            "epoch : 42 , loss : 0.43970921635627747\n",
            "epoch : 43 , loss : 0.4397091269493103\n",
            "epoch : 44 , loss : 0.4397091269493103\n",
            "epoch : 45 , loss : 0.4397091269493103\n",
            "epoch : 46 , loss : 0.4397091269493103\n",
            "epoch : 47 , loss : 0.4397091269493103\n",
            "epoch : 48 , loss : 0.4397091269493103\n",
            "epoch : 49 , loss : 0.4397091269493103\n",
            "epoch : 50 , loss : 0.4397091269493103\n",
            "epoch : 51 , loss : 0.4397091269493103\n",
            "epoch : 52 , loss : 0.4397090673446655\n",
            "epoch : 53 , loss : 0.4397090673446655\n",
            "epoch : 54 , loss : 0.4397090673446655\n",
            "epoch : 55 , loss : 0.4397090673446655\n",
            "epoch : 56 , loss : 0.4397090673446655\n",
            "epoch : 57 , loss : 0.4397090673446655\n",
            "epoch : 58 , loss : 0.4397090673446655\n",
            "epoch : 59 , loss : 0.4397091567516327\n",
            "epoch : 60 , loss : 0.43970903754234314\n",
            "epoch : 61 , loss : 0.4397090673446655\n",
            "epoch : 62 , loss : 0.4397090673446655\n",
            "epoch : 63 , loss : 0.4397090673446655\n",
            "epoch : 64 , loss : 0.43970903754234314\n",
            "epoch : 65 , loss : 0.43970903754234314\n",
            "epoch : 66 , loss : 0.43970903754234314\n",
            "epoch : 67 , loss : 0.43970903754234314\n",
            "epoch : 68 , loss : 0.43970903754234314\n",
            "epoch : 69 , loss : 0.43970903754234314\n",
            "epoch : 70 , loss : 0.43970903754234314\n",
            "epoch : 71 , loss : 0.43970903754234314\n",
            "epoch : 72 , loss : 0.43970903754234314\n",
            "epoch : 73 , loss : 0.43970903754234314\n",
            "epoch : 74 , loss : 0.43970903754234314\n",
            "epoch : 75 , loss : 0.4397090673446655\n",
            "epoch : 76 , loss : 0.4397090673446655\n",
            "epoch : 77 , loss : 0.4397090673446655\n",
            "epoch : 78 , loss : 0.43970897793769836\n",
            "epoch : 79 , loss : 0.43970903754234314\n",
            "epoch : 80 , loss : 0.43970897793769836\n",
            "epoch : 81 , loss : 0.43970897793769836\n",
            "epoch : 82 , loss : 0.43970897793769836\n",
            "epoch : 83 , loss : 0.43970897793769836\n",
            "epoch : 84 , loss : 0.43970897793769836\n",
            "epoch : 85 , loss : 0.43970897793769836\n",
            "epoch : 86 , loss : 0.43970903754234314\n",
            "epoch : 87 , loss : 0.43970897793769836\n",
            "epoch : 88 , loss : 0.43970897793769836\n",
            "epoch : 89 , loss : 0.43970897793769836\n",
            "epoch : 90 , loss : 0.43970897793769836\n",
            "epoch : 91 , loss : 0.43970897793769836\n",
            "epoch : 92 , loss : 0.43970897793769836\n",
            "epoch : 93 , loss : 0.43970903754234314\n",
            "epoch : 94 , loss : 0.43970903754234314\n",
            "epoch : 95 , loss : 0.43970897793769836\n",
            "epoch : 96 , loss : 0.43970897793769836\n",
            "epoch : 97 , loss : 0.43970897793769836\n",
            "epoch : 98 , loss : 0.43970897793769836\n",
            "epoch : 99 , loss : 0.43970897793769836\n"
          ]
        }
      ]
    },
    {
      "cell_type": "markdown",
      "source": [
        "초기 , num_heads = 8 , lr = 0.001\n",
        "\n",
        "---\n",
        "\n",
        "\n",
        "epoch99 : 0.594"
      ],
      "metadata": {
        "id": "kQ_lo7-JjHcc"
      }
    },
    {
      "cell_type": "markdown",
      "source": [
        "learning_rate from 0.001 to 0.01\n",
        "\n",
        "---\n",
        "epcoh99 : 0.592\n"
      ],
      "metadata": {
        "id": "NfL1XXNUjlqe"
      }
    },
    {
      "cell_type": "markdown",
      "source": [
        "loss 0.592에서 잘 떨어지지 않는다"
      ],
      "metadata": {
        "id": "3lAgm_pzkfC9"
      }
    },
    {
      "cell_type": "markdown",
      "source": [],
      "metadata": {
        "id": "CVxNn8oeIqaV"
      }
    },
    {
      "cell_type": "code",
      "source": [
        "!pip install evaluate"
      ],
      "metadata": {
        "id": "Iyn6cKH3I2mS"
      },
      "execution_count": null,
      "outputs": []
    },
    {
      "cell_type": "code",
      "source": [
        "#평가\n",
        "import evaluate\n",
        "metric = evaluate.load(\"glue\", \"mrpc\")\n",
        "model.eval()\n",
        "test_loader = DataLoader(tokenized_dataset[\"test\"], batch_size=len(tokenized_dataset[\"test\"]), collate_fn=default_data_collator)\n",
        "for batch in test_loader:\n",
        "    input = batch['input_ids']\n",
        "    token = batch['token_type_ids']\n",
        "    mask = batch['attention_mask']\n",
        "    print(input.shape)\n",
        "    print(token.shape)\n",
        "    print(mask.shape)\n",
        "    with torch.no_grad():\n",
        "        outputs = model.update(input , token , mask)\n",
        "\n",
        "    predictions = torch.sigmoid(outputs) > 0.5\n",
        "    metric.add_batch(predictions=predictions, references=batch[\"labels\"])\n",
        "\n",
        "metric.compute()"
      ],
      "metadata": {
        "id": "M6-6TWSEtOv8",
        "colab": {
          "base_uri": "https://localhost:8080/"
        },
        "outputId": "a736b512-524e-4e1a-9387-2c318d6bfbe4"
      },
      "execution_count": null,
      "outputs": [
        {
          "output_type": "stream",
          "name": "stdout",
          "text": [
            "torch.Size([1725, 64])\n",
            "torch.Size([1725, 64])\n",
            "torch.Size([1725, 64])\n"
          ]
        },
        {
          "output_type": "execute_result",
          "data": {
            "text/plain": [
              "{'accuracy': 0.664927536231884, 'f1': 0.7987465181058496}"
            ]
          },
          "metadata": {},
          "execution_count": 110
        }
      ]
    }
  ]
}